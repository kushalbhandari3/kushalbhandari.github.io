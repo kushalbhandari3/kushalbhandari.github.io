{
  "nbformat": 4,
  "nbformat_minor": 0,
  "metadata": {
    "colab": {
      "provenance": [],
      "authorship_tag": "ABX9TyONLc9k1x2GdGiLQPE/n6Kr",
      "include_colab_link": true
    },
    "kernelspec": {
      "name": "python3",
      "display_name": "Python 3"
    },
    "language_info": {
      "name": "python"
    }
  },
  "cells": [
    {
      "cell_type": "markdown",
      "metadata": {
        "id": "view-in-github",
        "colab_type": "text"
      },
      "source": [
        "<a href=\"https://colab.research.google.com/github/kushalbhandari3/kushalbhandari3.github.io/blob/main/Paint_Estimator.ipynb\" target=\"_parent\"><img src=\"https://colab.research.google.com/assets/colab-badge.svg\" alt=\"Open In Colab\"/></a>"
      ]
    },
    {
      "cell_type": "code",
      "execution_count": null,
      "metadata": {
        "id": "bi8X2jHl7rW1"
      },
      "outputs": [],
      "source": [
        "def getFloatInput(sPrompt):\n",
        "    while True:\n",
        "        try:\n",
        "            fValue = float(input(sPrompt))\n",
        "            if fValue > 0:\n",
        "                return fValue\n",
        "            else:\n",
        "                print(\"Enter a number greater than 0\")\n",
        "        except ValueError:\n",
        "            print(\"Invalid input. Please enter a valid number.\")\n",
        "\n",
        "def getStringInput(sPrompt):\n",
        "    while True:\n",
        "        sValue = input(sPrompt).strip()\n",
        "        if sValue:\n",
        "            return sValue\n",
        "        print(\"Input cannot be blank.\")\n",
        "\n",
        "def getIntInput(iPrompt):\n",
        "    while True:\n",
        "        try:\n",
        "            iValue = int(input(iPrompt))\n",
        "            if iValue > 0:\n",
        "                return iValue\n",
        "            else:\n",
        "                print(\"Enter a positive integer.\")\n",
        "        except ValueError:\n",
        "            print(\"Invalid input. Please enter a valid integer.\")\n",
        "\n",
        "def getGallonsOfPaint(fWallSpaceFt, fFeetPerGallonOfPaint):\n",
        "    return fWallSpaceFt / fFeetPerGallonOfPaint\n",
        "\n",
        "def main():\n",
        "    print(\"Starting...\")\n",
        "\n",
        "    fTotalSquareFeet = getFloatInput(\"Please enter the total square feet of wall space: \")\n",
        "    fFeetPerGallon = getFloatInput(\"Enter coverage per gallon of paint (sq ft per gallon): \")\n",
        "    fCostOfPaint = getFloatInput(\"Please enter the cost per gallon of paint: \")\n",
        "\n",
        "    fGallonsRequired = getGallonsOfPaint(fTotalSquareFeet, fFeetPerGallon)\n",
        "    fTotalCost = fGallonsRequired * fCostOfPaint\n",
        "\n",
        "    print(\"\\nResults:\")\n",
        "    print(f\"Total gallons of paint needed: {fGallonsRequired:.2f}\")\n",
        "    print(f\"Total cost: ${fTotalCost:.2f}\")\n",
        "\n",
        "    print(\"Ending...\")\n",
        "\n",
        "main()\n"
      ]
    }
  ]
}